{
 "cells": [
  {
   "cell_type": "code",
   "execution_count": null,
   "id": "9d04fee2",
   "metadata": {},
   "outputs": [],
   "source": [
    "from collections import Counter\n",
    "\n",
    "import matplotlib.pyplot as plt\n",
    "import numpy as np\n",
    "import pandas as pd\n",
    "\n",
    "from sklearn.ensemble import GradientBoostingClassifier\n",
    "from sklearn.linear_model import LogisticRegression\n",
    "from sklearn.model_selection import train_test_split, StratifiedKFold, cross_validate\n",
    "from sklearn.pipeline import Pipeline\n",
    "from xgboost import XGBClassifier\n",
    "\n",
    "from src.data import clean_data, normalize_column_names\n",
    "from src.features import feature_engineering\n",
    "from src.ml.pipelines import build_preprocess_pipeline\n",
    "from src.preprocessing import balance_dataset"
   ]
  },
  {
   "cell_type": "markdown",
   "id": "decccdf7",
   "metadata": {},
   "source": [
    "# 1. Load data"
   ]
  },
  {
   "cell_type": "code",
   "execution_count": null,
   "id": "920b1ccb",
   "metadata": {},
   "outputs": [],
   "source": [
    "df = pd.read_csv(\"../data/raw/diabetic_data.csv\")\n",
    "df = normalize_column_names(df)"
   ]
  },
  {
   "cell_type": "code",
   "execution_count": null,
   "id": "e97c7553",
   "metadata": {},
   "outputs": [],
   "source": [
    "df.columns"
   ]
  },
  {
   "cell_type": "markdown",
   "id": "e13f4aa4",
   "metadata": {},
   "source": [
    "# 2. Data cleaning & Feature engineering"
   ]
  },
  {
   "cell_type": "markdown",
   "id": "a9567370",
   "metadata": {},
   "source": [
    "### Clean data"
   ]
  },
  {
   "cell_type": "code",
   "execution_count": null,
   "id": "f2ef79bf",
   "metadata": {},
   "outputs": [],
   "source": [
    "df = clean_data(df)"
   ]
  },
  {
   "cell_type": "markdown",
   "id": "63f11dcb",
   "metadata": {},
   "source": [
    "### Feature engineering"
   ]
  },
  {
   "cell_type": "code",
   "execution_count": null,
   "id": "306ca42b",
   "metadata": {},
   "outputs": [],
   "source": [
    "df = feature_engineering(df)"
   ]
  },
  {
   "cell_type": "code",
   "execution_count": null,
   "id": "efb0d043",
   "metadata": {},
   "outputs": [],
   "source": [
    "X = df.drop(\"readmitted_30_days\", axis=1)\n",
    "y = df[\"readmitted_30_days\"]"
   ]
  },
  {
   "cell_type": "markdown",
   "id": "da74d93e",
   "metadata": {},
   "source": [
    "### Balance dataset"
   ]
  },
  {
   "cell_type": "code",
   "execution_count": null,
   "id": "14770a33",
   "metadata": {},
   "outputs": [],
   "source": [
    "print(f\"Numer of rows before sampling: {X.shape[0]:,}\")\n",
    "X, y = balance_dataset(X, y, strategy=\"undersample\")\n",
    "print(f\"Numer of rows after sampling: {X.shape[0]:,}\")"
   ]
  },
  {
   "cell_type": "markdown",
   "id": "9f4f415a",
   "metadata": {},
   "source": [
    "### Split"
   ]
  },
  {
   "cell_type": "code",
   "execution_count": null,
   "id": "af87e09c",
   "metadata": {},
   "outputs": [],
   "source": [
    "X_train, X_val, y_train, y_val = train_test_split(\n",
    "    X, y, stratify=y, test_size=0.2, random_state=42\n",
    ")"
   ]
  },
  {
   "cell_type": "markdown",
   "id": "a9d9f090",
   "metadata": {},
   "source": [
    "# 3. Define Candidate Models"
   ]
  },
  {
   "cell_type": "code",
   "execution_count": null,
   "id": "1733128e",
   "metadata": {},
   "outputs": [],
   "source": [
    "counter = Counter(y_train)\n",
    "neg, pos = counter[0], counter[1]\n",
    "scale_pos_weight = neg / pos\n",
    "\n",
    "models = {\n",
    "    \"LogisticRegression\": LogisticRegression(max_iter=1_000, class_weight=\"balanced\"),\n",
    "    \"GradientBoosting\": GradientBoostingClassifier(),\n",
    "    \"XGBoost\": XGBClassifier(eval_metric=\"logloss\", scale_pos_weight=scale_pos_weight),\n",
    "}"
   ]
  },
  {
   "cell_type": "markdown",
   "id": "f4e3d825",
   "metadata": {},
   "source": [
    "# 4. Cross-validation Setup"
   ]
  },
  {
   "cell_type": "code",
   "execution_count": null,
   "id": "0ad2bb59",
   "metadata": {},
   "outputs": [],
   "source": [
    "cv = StratifiedKFold(n_splits=5, shuffle=True, random_state=42)\n",
    "\n",
    "scoring = {\n",
    "    \"roc_auc\": \"roc_auc\",\n",
    "    \"f1\": \"f1\",\n",
    "    \"recall\": \"recall\",\n",
    "    \"precision\": \"precision\",\n",
    "}"
   ]
  },
  {
   "cell_type": "markdown",
   "id": "f2fad540",
   "metadata": {},
   "source": [
    "# 5. Evaluate Each Model"
   ]
  },
  {
   "cell_type": "code",
   "execution_count": null,
   "id": "01d493aa",
   "metadata": {},
   "outputs": [],
   "source": [
    "results = []\n",
    "\n",
    "for name, model in models.items():\n",
    "    print(f\"----------\\nTesting model: {name}\")\n",
    "    preprocessor = build_preprocess_pipeline(X_train)\n",
    "    pipeline = Pipeline([(\"preprocessor\", preprocessor), (\"model\", model)])\n",
    "\n",
    "    scores = cross_validate(\n",
    "        pipeline, X_train, y_train, cv=cv, scoring=scoring, return_train_score=False\n",
    "    )\n",
    "\n",
    "    summary = {\n",
    "        \"model\": name,\n",
    "        \"roc_auc\": np.mean(scores[\"test_roc_auc\"]),\n",
    "        \"f1\": np.mean(scores[\"test_f1\"]),\n",
    "        \"recall\": np.mean(scores[\"test_recall\"]),\n",
    "        \"precision\": np.mean(scores[\"test_precision\"]),\n",
    "    }\n",
    "    results.append(summary)\n",
    "\n",
    "df_results = pd.DataFrame(results).sort_values(by=\"f1\", ascending=False)\n",
    "df_results"
   ]
  },
  {
   "cell_type": "markdown",
   "id": "821f09c5",
   "metadata": {},
   "source": [
    "# 6. Visualize Comparison"
   ]
  },
  {
   "cell_type": "code",
   "execution_count": null,
   "id": "0d024ed2",
   "metadata": {},
   "outputs": [],
   "source": [
    "# Reorganizamos para agrupar por métrica\n",
    "df_plot = df_results.set_index(\"model\")[[\"roc_auc\", \"f1\", \"recall\", \"precision\"]].T\n",
    "\n",
    "# Gráfico de barras verticales agrupado por métrica\n",
    "ax = df_plot.plot(kind=\"bar\", figsize=(10, 6))\n",
    "plt.title(\"Model Comparison by Metric\")\n",
    "plt.ylabel(\"Score\")\n",
    "plt.xticks(rotation=0)\n",
    "plt.ylim(0, 1)\n",
    "plt.grid(axis=\"y\", linestyle=\"--\", alpha=0.7)\n",
    "plt.legend(title=\"Model\", bbox_to_anchor=(1.05, 1), loc=\"upper left\")\n",
    "plt.tight_layout()\n",
    "plt.show()"
   ]
  },
  {
   "cell_type": "code",
   "execution_count": null,
   "id": "e2434f5d",
   "metadata": {},
   "outputs": [],
   "source": []
  }
 ],
 "metadata": {
  "kernelspec": {
   "display_name": "patient-readmission-risk",
   "language": "python",
   "name": "python3"
  },
  "language_info": {
   "codemirror_mode": {
    "name": "ipython",
    "version": 3
   },
   "file_extension": ".py",
   "mimetype": "text/x-python",
   "name": "python",
   "nbconvert_exporter": "python",
   "pygments_lexer": "ipython3",
   "version": "3.11.7"
  }
 },
 "nbformat": 4,
 "nbformat_minor": 5
}
