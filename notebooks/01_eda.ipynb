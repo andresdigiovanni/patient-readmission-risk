{
 "cells": [
  {
   "cell_type": "code",
   "execution_count": null,
   "id": "cbbdbe6f",
   "metadata": {},
   "outputs": [],
   "source": [
    "import matplotlib.pyplot as plt\n",
    "import pandas as pd\n",
    "import seaborn as sns\n",
    "\n",
    "from src.data import normalize_column_names"
   ]
  },
  {
   "cell_type": "markdown",
   "id": "bce20f93",
   "metadata": {},
   "source": [
    "# 1. Load and Inspect the Data"
   ]
  },
  {
   "cell_type": "markdown",
   "id": "fc5cd0fc",
   "metadata": {},
   "source": [
    "### Load the data"
   ]
  },
  {
   "cell_type": "code",
   "execution_count": null,
   "id": "26853f1f",
   "metadata": {},
   "outputs": [],
   "source": [
    "df = pd.read_csv(\"../data/raw/diabetic_data.csv\")\n",
    "df = normalize_column_names(df)"
   ]
  },
  {
   "cell_type": "markdown",
   "id": "ea1433b5",
   "metadata": {},
   "source": [
    "### Basic info"
   ]
  },
  {
   "cell_type": "code",
   "execution_count": null,
   "id": "6a59ae6f",
   "metadata": {},
   "outputs": [],
   "source": [
    "print(df.shape)"
   ]
  },
  {
   "cell_type": "code",
   "execution_count": null,
   "id": "4d0923c2",
   "metadata": {},
   "outputs": [],
   "source": [
    "df.head().transpose()"
   ]
  },
  {
   "cell_type": "code",
   "execution_count": null,
   "id": "be66f1f3",
   "metadata": {},
   "outputs": [],
   "source": [
    "df.info()"
   ]
  },
  {
   "cell_type": "code",
   "execution_count": null,
   "id": "999139ec",
   "metadata": {},
   "outputs": [],
   "source": [
    "df.describe(include=\"all\").transpose()"
   ]
  },
  {
   "cell_type": "markdown",
   "id": "d90ad948",
   "metadata": {},
   "source": [
    "# 2. Missing Values Analysis"
   ]
  },
  {
   "cell_type": "markdown",
   "id": "e4275630",
   "metadata": {},
   "source": [
    "### Missing value counts"
   ]
  },
  {
   "cell_type": "code",
   "execution_count": null,
   "id": "6143db9b",
   "metadata": {},
   "outputs": [],
   "source": [
    "missing = df.isnull().sum()\n",
    "missing_pct = (missing / len(df)) * 100\n",
    "missing_df = pd.DataFrame({\"Missing Count\": missing, \"Missing %\": missing_pct})\n",
    "missing_df = missing_df[missing_df[\"Missing Count\"] > 0].sort_values(\n",
    "    by=\"Missing %\", ascending=False\n",
    ")\n",
    "\n",
    "missing_df"
   ]
  },
  {
   "cell_type": "markdown",
   "id": "99d4fa18",
   "metadata": {},
   "source": [
    "# 3. Target Variable Distribution"
   ]
  },
  {
   "cell_type": "code",
   "execution_count": null,
   "id": "1cb24a7f",
   "metadata": {},
   "outputs": [],
   "source": [
    "df[\"readmitted_30_days\"] = df[\"readmitted\"].apply(lambda x: 1 if x == \"<30\" else 0)"
   ]
  },
  {
   "cell_type": "markdown",
   "id": "5ac68350",
   "metadata": {},
   "source": [
    "### Class balance"
   ]
  },
  {
   "cell_type": "code",
   "execution_count": null,
   "id": "8f788f0c",
   "metadata": {},
   "outputs": [],
   "source": [
    "sns.countplot(x=\"readmitted_30_days\", data=df)\n",
    "plt.title(\"Readmitted Within 30 Days (Target Variable)\")\n",
    "df[\"readmitted_30_days\"].value_counts(normalize=True)"
   ]
  },
  {
   "cell_type": "markdown",
   "id": "3d81890a",
   "metadata": {},
   "source": [
    "# 4. Demographics"
   ]
  },
  {
   "cell_type": "markdown",
   "id": "782052d2",
   "metadata": {},
   "source": [
    "### Age bins"
   ]
  },
  {
   "cell_type": "code",
   "execution_count": null,
   "id": "7be4cf0e",
   "metadata": {},
   "outputs": [],
   "source": [
    "df[\"age\"].value_counts().sort_index().plot(kind=\"bar\", title=\"Age Distribution\")"
   ]
  },
  {
   "cell_type": "markdown",
   "id": "3caba345",
   "metadata": {},
   "source": [
    "### Gender"
   ]
  },
  {
   "cell_type": "code",
   "execution_count": null,
   "id": "72d9134e",
   "metadata": {},
   "outputs": [],
   "source": [
    "df[\"gender\"].value_counts(dropna=False).plot(kind=\"bar\", title=\"Gender Distribution\")"
   ]
  },
  {
   "cell_type": "markdown",
   "id": "419e2180",
   "metadata": {},
   "source": [
    "### Race"
   ]
  },
  {
   "cell_type": "code",
   "execution_count": null,
   "id": "54119dd1",
   "metadata": {},
   "outputs": [],
   "source": [
    "df[\"race\"].value_counts(dropna=False).plot(kind=\"bar\", title=\"Race Distribution\")"
   ]
  },
  {
   "cell_type": "markdown",
   "id": "abf5a127",
   "metadata": {},
   "source": [
    "# 5. Admission & Discharge Details"
   ]
  },
  {
   "cell_type": "markdown",
   "id": "75da5c56",
   "metadata": {},
   "source": [
    "### Admission type"
   ]
  },
  {
   "cell_type": "code",
   "execution_count": null,
   "id": "804c3b55",
   "metadata": {},
   "outputs": [],
   "source": [
    "df[\"admission_type_id\"].value_counts().plot(kind=\"bar\", title=\"Admission Type\")"
   ]
  },
  {
   "cell_type": "markdown",
   "id": "53b1d8ca",
   "metadata": {},
   "source": [
    "### Discharge disposition"
   ]
  },
  {
   "cell_type": "code",
   "execution_count": null,
   "id": "404886e6",
   "metadata": {},
   "outputs": [],
   "source": [
    "df[\"discharge_disposition_id\"].value_counts().head(10).plot(\n",
    "    kind=\"bar\", title=\"Top 10 Discharge Dispositions\"\n",
    ")"
   ]
  },
  {
   "cell_type": "markdown",
   "id": "77878450",
   "metadata": {},
   "source": [
    "### Admission source"
   ]
  },
  {
   "cell_type": "code",
   "execution_count": null,
   "id": "15f04105",
   "metadata": {},
   "outputs": [],
   "source": [
    "df[\"admission_source_id\"].value_counts().head(10).plot(\n",
    "    kind=\"bar\", title=\"Top 10 Admission Sources\"\n",
    ")"
   ]
  },
  {
   "cell_type": "markdown",
   "id": "1040dfdf",
   "metadata": {},
   "source": [
    "# 6. Hospitalization History"
   ]
  },
  {
   "cell_type": "markdown",
   "id": "6919c89f",
   "metadata": {},
   "source": [
    "### Time in hospital"
   ]
  },
  {
   "cell_type": "code",
   "execution_count": null,
   "id": "bd712127",
   "metadata": {},
   "outputs": [],
   "source": [
    "sns.histplot(df[\"time_in_hospital\"], kde=False, bins=14)"
   ]
  },
  {
   "cell_type": "markdown",
   "id": "8a7196d7",
   "metadata": {},
   "source": [
    "### Number of diagnoses"
   ]
  },
  {
   "cell_type": "code",
   "execution_count": null,
   "id": "252dabbe",
   "metadata": {},
   "outputs": [],
   "source": [
    "sns.histplot(df[\"number_diagnoses\"], bins=15)"
   ]
  },
  {
   "cell_type": "markdown",
   "id": "85a8deee",
   "metadata": {},
   "source": [
    "### Prior utilization"
   ]
  },
  {
   "cell_type": "code",
   "execution_count": null,
   "id": "c102d867",
   "metadata": {},
   "outputs": [],
   "source": [
    "util_cols = [\"number_outpatient\", \"number_emergency\", \"number_inpatient\"]\n",
    "df[util_cols].hist(bins=20, figsize=(12, 6))"
   ]
  },
  {
   "cell_type": "markdown",
   "id": "114891c9",
   "metadata": {},
   "source": [
    "# 7. Clinical Features"
   ]
  },
  {
   "cell_type": "markdown",
   "id": "ead18601",
   "metadata": {},
   "source": [
    "### Number of lab procedures, medications, procedures"
   ]
  },
  {
   "cell_type": "code",
   "execution_count": null,
   "id": "be5029cd",
   "metadata": {},
   "outputs": [],
   "source": [
    "clinical_cols = [\"num_lab_procedures\", \"num_medications\", \"num_procedures\"]\n",
    "df[clinical_cols].hist(bins=20, figsize=(12, 6))"
   ]
  },
  {
   "cell_type": "markdown",
   "id": "c9f358a7",
   "metadata": {},
   "source": [
    "### Glucose and A1C results"
   ]
  },
  {
   "cell_type": "code",
   "execution_count": null,
   "id": "6e58c38c",
   "metadata": {},
   "outputs": [],
   "source": [
    "df[\"max_glu_serum\"].value_counts()"
   ]
  },
  {
   "cell_type": "code",
   "execution_count": null,
   "id": "7b312211",
   "metadata": {},
   "outputs": [],
   "source": [
    "df[\"a1cresult\"].value_counts()"
   ]
  },
  {
   "cell_type": "markdown",
   "id": "776ddcaa",
   "metadata": {},
   "source": [
    "# 8. Medications"
   ]
  },
  {
   "cell_type": "code",
   "execution_count": null,
   "id": "5f3bc231",
   "metadata": {},
   "outputs": [],
   "source": [
    "med_cols = [\n",
    "    \"metformin\",\n",
    "    \"repaglinide\",\n",
    "    \"nateglinide\",\n",
    "    \"chlorpropamide\",\n",
    "    \"glimepiride\",\n",
    "    \"acetohexamide\",\n",
    "    \"glipizide\",\n",
    "    \"glyburide\",\n",
    "    \"tolbutamide\",\n",
    "    \"pioglitazone\",\n",
    "    \"rosiglitazone\",\n",
    "    \"acarbose\",\n",
    "    \"miglitol\",\n",
    "    \"troglitazone\",\n",
    "    \"tolazamide\",\n",
    "    \"examide\",\n",
    "    \"citoglipton\",\n",
    "    \"insulin\",\n",
    "    \"glyburide-metformin\",\n",
    "    \"glipizide-metformin\",\n",
    "    \"glimepiride-pioglitazone\",\n",
    "    \"metformin-rosiglitazone\",\n",
    "    \"metformin-pioglitazone\",\n",
    "]\n",
    "df[med_cols].apply(pd.Series.value_counts).transpose()"
   ]
  },
  {
   "cell_type": "markdown",
   "id": "1a2d1959",
   "metadata": {},
   "source": [
    "# 9. Missing Data & Unknowns"
   ]
  },
  {
   "cell_type": "code",
   "execution_count": null,
   "id": "e7a469e9",
   "metadata": {},
   "outputs": [],
   "source": [
    "# Missing counts (includes '?')\n",
    "missing_cols = df.columns[df.isin([\"?\"]).any()]\n",
    "for col in missing_cols:\n",
    "    missing_pct = (df[col] == \"?\").mean() * 100\n",
    "    print(f\"{col}: {missing_pct:.2f}% '?' values\")"
   ]
  },
  {
   "cell_type": "markdown",
   "id": "ff910d97",
   "metadata": {},
   "source": [
    "# 10. Correlation & Feature Interactions"
   ]
  },
  {
   "cell_type": "markdown",
   "id": "d67eda0c",
   "metadata": {},
   "source": [
    "### Correlation matrix"
   ]
  },
  {
   "cell_type": "code",
   "execution_count": null,
   "id": "4e722e1b",
   "metadata": {},
   "outputs": [],
   "source": [
    "numeric_cols = df.select_dtypes(include=\"number\")\n",
    "corr = numeric_cols.corr()\n",
    "\n",
    "sns.heatmap(corr, cmap=\"coolwarm\", annot=False, vmax=1, vmin=-1)"
   ]
  }
 ],
 "metadata": {
  "kernelspec": {
   "display_name": "patient-readmission-risk",
   "language": "python",
   "name": "python3"
  },
  "language_info": {
   "codemirror_mode": {
    "name": "ipython",
    "version": 3
   },
   "file_extension": ".py",
   "mimetype": "text/x-python",
   "name": "python",
   "nbconvert_exporter": "python",
   "pygments_lexer": "ipython3",
   "version": "3.11.7"
  }
 },
 "nbformat": 4,
 "nbformat_minor": 5
}
